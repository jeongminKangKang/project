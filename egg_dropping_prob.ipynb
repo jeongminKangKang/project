{
 "cells": [
  {
   "cell_type": "code",
   "execution_count": 16,
   "id": "c290c3f3",
   "metadata": {
    "scrolled": true
   },
   "outputs": [
    {
     "name": "stdout",
     "output_type": "stream",
     "text": [
      "# of eggs: 2\n",
      "floors which broke egg: 10\n",
      "\n",
      "gauranteed minimum of worst case of trials: 4\n"
     ]
    }
   ],
   "source": [
    "def egg_drop(k,n):\n",
    "    if n == 1 or n == 0:\n",
    "        return n\n",
    "    if k == 1:\n",
    "        return n\n",
    "    min_trials = float('inf')\n",
    "    for i in range(1,n+1):\n",
    "        broken = egg_drop(k-1,i-1)\n",
    "        not_broken = egg_drop(k,n-i)\n",
    "        trials = max(broken,not_broken)\n",
    "        if trials < min_trials:\n",
    "            min_trials = trials\n",
    "\n",
    "    return min_trials+1\n",
    "\n",
    "k = int(input('# of eggs: '))\n",
    "n = int(input('floors which broke egg: '))\n",
    "print()\n",
    "print('gauranteed minimum of worst case of trials:',egg_drop(k,n))"
   ]
  },
  {
   "cell_type": "code",
   "execution_count": 6,
   "id": "f9d72bf9",
   "metadata": {
    "scrolled": true
   },
   "outputs": [],
   "source": [
    "# https://siyoung.org/kr/posts/2015/egg-dropping-puzzle/"
   ]
  },
  {
   "cell_type": "code",
   "execution_count": 8,
   "id": "91dcf0ab",
   "metadata": {},
   "outputs": [
    {
     "name": "stdout",
     "output_type": "stream",
     "text": [
      "2 3\n",
      "2 3\n",
      "[['none', 'none'], ['none', 'none'], ['none', 'none']]\n"
     ]
    }
   ],
   "source": [
    "a,b = input().split()\n",
    "a,b = int(a),int(b)\n",
    "print(a,b)\n",
    "\n",
    "hist = [['none' for i in range(a)] for j in range(b)]\n",
    "print(hist)"
   ]
  },
  {
   "cell_type": "code",
   "execution_count": 52,
   "id": "47aa3d45",
   "metadata": {},
   "outputs": [
    {
     "name": "stdout",
     "output_type": "stream",
     "text": [
      "# of eggs: 2\n",
      "floors which broke egg: 10\n",
      "gauranteed minimum of worst case of trials: 4\n",
      "[0, 1, 2, 3, 4, 5, 6, 7, 8, 9, 'none']\n",
      "[0, 1, 2, 2, 3, 3, 3, 4, 4, 4, 4]\n"
     ]
    }
   ],
   "source": [
    "def egg_drop(k,n,hist):\n",
    "    if hist[k-1][n] != 'none':\n",
    "        return hist[k-1][n]\n",
    "    if n == 1 or n == 0:\n",
    "        hist[k-1][n] = n\n",
    "        return n\n",
    "    if k == 1:\n",
    "        hist[k-1][n] = n\n",
    "        return n\n",
    "    min_trials = float('inf')\n",
    "    for i in range(1,n+1):\n",
    "        broken = egg_drop(k-1,i-1,hist)\n",
    "        not_broken = egg_drop(k,n-i,hist)\n",
    "        trials = max(broken,not_broken)\n",
    "        if trials < min_trials:\n",
    "            min_trials = trials\n",
    "            hist[k-1][n] = min_trials+1\n",
    "\n",
    "    return min_trials+1\n",
    "\n",
    "k = int(input('# of eggs: '))\n",
    "n = int(input('floors which broke egg: '))\n",
    "hist = [['none' for i in range(n+1)] for j in range(k)]\n",
    "\n",
    "#for i in range(n+1):\n",
    " #   hist[0][i] = i\n",
    "\n",
    "print('gauranteed minimum of worst case of trials:',egg_drop(k,n,hist))\n",
    "for i in hist:\n",
    "    print(i)"
   ]
  }
 ],
 "metadata": {
  "kernelspec": {
   "display_name": "Python 3 (ipykernel)",
   "language": "python",
   "name": "python3"
  },
  "language_info": {
   "codemirror_mode": {
    "name": "ipython",
    "version": 3
   },
   "file_extension": ".py",
   "mimetype": "text/x-python",
   "name": "python",
   "nbconvert_exporter": "python",
   "pygments_lexer": "ipython3",
   "version": "3.11.5"
  }
 },
 "nbformat": 4,
 "nbformat_minor": 5
}
