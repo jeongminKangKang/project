{
 "cells": [
  {
   "cell_type": "code",
   "execution_count": 18,
   "id": "b13ca82a",
   "metadata": {
    "scrolled": false
   },
   "outputs": [
    {
     "name": "stdout",
     "output_type": "stream",
     "text": [
      "Loaded the dataset.\n",
      "Model Created Successfully!\n",
      "\n",
      "my dear countrymen,\n",
      "\n",
      "many of you wish many-many good wishes of the holy festival of independence.\n",
      "\n",
      "today the country is full of confidence. the country is crossing the new heights by plowing the resolve of dreams with hard work. today's sunrise has brought a new consciousness, new excitement, new excitement, new energy.\n",
      "\n",
      "our lovely countrymen, once in 12 years, flowers of nilakurinya grow in our country. this year, on the hills of nilgiris in the south, it is like our nilkurinji flower like the ashok chakra of the tricolor flag, in the festival of freedom of the country.\n",
      "\n",
      "my dear countrymen, we are celebrating this festival of independence, when our daughters uttarakhand, himachal, manipur, telangana, andhra pradesh - our daughters of these states crossed seven seas and coloring the seven seas with a color of tricolor came back\n",
      "\n",
      "my dear countrymen, we are celebrating the festival of independence at that time, when everest triumphs were so many, many of our heroes, many of our daughters went to the everest and hoisted the tricolor flag. but in the celebration of this freedom, i will remember that the tribal children living in far-off jungles have increased the glory of the tricolor flag by hoisting the tricolor flag on everest.\n",
      "\n",
      "\n",
      "my dear countrymen, the sessions of the lok sabha and rajya sabha have just been fulfilled. you must have seen that the house ran very well and in a sense this session of parliament was entirely devoted to social justice. to protect their rights, our parliament made social justice more forceful with sensitivity and awareness, to be oppressed, oppressed, exploited, deprived, women, to protect their rights.\n",
      "\n",
      "the obc commission was demanding for a constitutional place for years. this time parliament has tried to protect their rights by giving a constitutional order to backward, backward, by giving constitutional status to that commission.\n",
      "\n",
      "we are celebrating the festival of independence at that time, when those news in our country brought new consciousness to the country, with whom every indian who is not in any corner of the world, today is proud of the fact that india has registered its name in the world's sixth largest economy. in such a positive environment, among the series of positive events we are celebrating the festival of independence today.\n",
      "\n",
      "in order to give freedom to the country, millions of people spent their lives in the jubilee prisons under the leadership of pujya bapu. many revolutionary great men hanged on the hanging frames and kissed the hanging for the country's independence. i heartily greet these brave fighters of independence from the countrymen today, i bow my heart to the eternal glory of the tricolor, inspiring us to live and die, the tricolor of for the sake of the army of the army of the country, our soldiers sacrifice their lives, our paramilitary forces spend life, the soldiers of our police force, in the service of the country day and night to protect the common man. live gay\n",
      "\n",
      "i bow down to the ranks of the red fort in the evidence of the tricolor flag today for all the soldiers of the army, the paramilitary forces, the police personnel, for their great service, for their sacrifice and happiness, for their power and happiness. i am very happy and give them a lot of luck.\n",
      "\n",
      "these days, reports of good rainfall are coming from different corners of the country, along with flood reports are coming along. those families who have lost their loved ones due to overcrowding and floods, who have suffered difficulties, have been standing in their help with the full power of the country and those who have lost their lives, i am involved in their misery.\n",
      "\n",
      "my dear countrymen, the next baisakhi is going to be a hundred years of massacres of our jalianwala bagh. how ordinary people of the country had betrayed life for the country's independence and how long had the boundaries of oppression passed? jalianwala bagh gives the message of sacrifice and sacrifice of those heroes of our country. i heartily respect all those heroes.\n",
      "---------------------------------------\n",
      "dear my countrymen, once in 12 years, flowers of nilakurinya grow in our country day and night to protect their loved ones due to overcrowding and floods, who have lost their lives in the festival of independence at that time, when everest and hoisted the tricolor flag. but in the evidence of the world, today is proud of the army of the world's sixth largest economy. in such a positive environment, among the series of positive environment, among the seven seas and coloring the festival of independence at that time, when our daughters uttarakhand, himachal, manipur, telangana, andhra pradesh - our daughters went to the country is full of confidence. the country, millions of the country day and night to protect their lives, our parliament made social justice more forceful with sensitivity and awareness, to be oppressed, oppressed, exploited, deprived, women, to protect the common man. live gay\n",
      "\n",
      "i bow down to the ranks of the tricolor flag, in the jubilee prisons under the leadership of pujya bapu. many revolutionary great men hanged on the hanging frames and kissed the hanging frames and kissed the hanging frames and kissed the glory of the army, the paramilitary forces spend life, the soldiers of our daughters went to the eternal glory of the country. i heartily greet these brave fighters of independence, when those news in our country is crossing the tricolor flag by hoisting the resolve of dreams with hard work. today's sunrise has brought new consciousness to the everest.\n",
      "\n",
      "\n",
      "my dear country. i heartily greet these brave fighters of the countrymen today, i bow my heart to the ranks of the fact that india has registered its name in the celebration of this freedom to the countrymen today, i bow my heart to the everest and hoisted the tricolor flag by hoisting the festival of independence from the country. this year, on the hanging for the sake of the countrymen, the session of parliament was entirely devoted to social justice more forceful with sensitivity and awareness, to be oppresse\n"
     ]
    }
   ],
   "source": [
    "import numpy as np\n",
    "\n",
    "text_path = \"C:/Users/jeong/Dataset/train_corpus.txt\"\n",
    "def load_text(filename):\n",
    "    with open(filename,encoding='utf8') as f:\n",
    "        return f.read().lower()\n",
    "\n",
    "text = load_text(text_path)\n",
    "print('Loaded the dataset.')\n",
    "\n",
    "def generateTable(data,k=4):\n",
    "    \n",
    "    T = {}\n",
    "    for i in range(len(data)-k):\n",
    "        X = data[i:i+k]\n",
    "        Y = data[i+k]\n",
    "        \n",
    "        if T.get(X) is None:\n",
    "            T[X] = {}\n",
    "            T[X][Y] = 1\n",
    "        else:\n",
    "            if T[X].get(Y) is None:\n",
    "                T[X][Y] = 1\n",
    "            else:\n",
    "                T[X][Y] += 1\n",
    "    \n",
    "    return T\n",
    "\n",
    "def convertFreqIntoProb(T):     \n",
    "    for kx in T.keys():\n",
    "        s = float(sum(T[kx].values()))\n",
    "        for k in T[kx].keys():\n",
    "            T[kx][k] = T[kx][k]/s\n",
    "                \n",
    "    return T\n",
    "\n",
    "def MarkovChain(text,k=4):\n",
    "    T = generateTable(text,k)\n",
    "    T = convertFreqIntoProb(T)\n",
    "    return T\n",
    "\n",
    "model = MarkovChain(text)\n",
    "print('Model Created Successfully!')\n",
    "\n",
    "def sample_next(ctx,model,k):\n",
    "    ctx = ctx[-k:]\n",
    "    if model.get(ctx) is None:\n",
    "        return \" \"\n",
    "    possible_Chars = list(model[ctx].keys())\n",
    "    possible_values = list(model[ctx].values())\n",
    "    return np.random.choice(possible_Chars,p=possible_values)\n",
    "  \n",
    "# Generate the Text\n",
    "def generateText(starting_sent,k ,maxLen):\n",
    "    model = MarkovChain(text, k)\n",
    "    sentence = starting_sent\n",
    "    ctx = starting_sent[-k:]\n",
    "    for ix in range(maxLen):\n",
    "        next_prediction = sample_next(ctx,model,k)\n",
    "        sentence += next_prediction\n",
    "        ctx = sentence[-k:]\n",
    "    return sentence\n",
    "\n",
    "generated_text = generateText(\"dear my countrymen\",k=8,maxLen=2000)\n",
    "print()\n",
    "print(text)\n",
    "print('---------------------------------------')\n",
    "print(generated_text)"
   ]
  },
  {
   "cell_type": "code",
   "execution_count": 17,
   "id": "0b3fac99",
   "metadata": {
    "scrolled": true
   },
   "outputs": [
    {
     "name": "stdout",
     "output_type": "stream",
     "text": [
      "apna time aayega uth ja apni raakh se tu udd ja ab talaash mein parwaaz dekh parwane ki aasman bhi sar uthayega aayega apna time aayega mere jaisa shaana lala tujhe na mil payega   yeh shabdon ka jwala meri bediyan pighlayega jitna toone boya hai tu utna hi to khaayega aisa mera khwaab hai jo darr ko bhi satayega zinda mera khwaab ab kaise tu dafnayega   ab hausle se jeene de ab khauf nahi hai seene mein har raaste ko cheerenge hum kaamyabi chheenenge sab kuchh mila paseene se matlab bana ab jeene mein   kyon kyon ki apna time aayega   tu nanga hi to aaya hai kya ghanta lekar jaayega apna time aayega apna time aayega apna time aayega x (2)   tu nanga hi to aaya hai kya ghanta lekar..   kissi ka hath nahi tha sar par yahaan par aaya khud ki mehnat se main jitni taakat kismat mein nahi utni rehmat mein hai phir bhi ladka sehmat nahin hai kyon ki hairat nahi hai zaroorat yahaan marzi ki aur jurrat ki hai   taakat ki hai, aafat ki himaakat ki, ibaadat ki adalat yeh hai chahat ki mohobbat ki, amaanat ki jeetne ki ab aadat ki hai shohrat ki ab laalach nai hai tere bhai jaisa koyi hard’ch nai hai   iss harkat ne hi barkat di hai kyon?   tu nanga hi to aaya hai kya ghanta lekar jaayega apna time aayega apna time aayega apna time aayega   tu nanga hi to aaya hai kya ghanta lekar jaayega kya tu ghanta lekar jaayega apna time aayega apna time aayega\n",
      "1360\n",
      "-------------------------------------------\n",
      "apna time aaega apna time aayega apna time aayega apna time aayega apna time aayega apna time aayega apna time aayega aisa mera khwaab hai jo darr ko bhi satayega zinda mera khwaab ab kaise tu dafnayega   yeh shabdon ka jwala meri bediyan pighlayega jitna toone boya hai tu utna hi to aaya hai kya ghanta lekar jaayega kya tu ghanta lekar jaayega aisa mera khwaab ab kaise tu dafnayega   tu nanga hi to aaya hai kya ghanta lekar jaayega apna time aayega   ab hausle se jeene de ab khauf nahi hai seene mein   kyon kyon ki hairat nahi hai seene mein   kyon kyon ki hairat nahi hai zaroorat yahaan marzi ki aur jurrat ki hai shohrat ki ab laalach nai hai   iss harkat ne hi barkat di hai kyon?   tu nanga hi to aaya hai kya ghanta lekar..   kissi ka hath nahi tha sar par yahaan par aaya khud ki mehnat se main jitni taakat kismat mein har raaste ko cheerenge hum kaamyabi chheenenge sab kuchh mila paseene se matlab bana ab jeene mein   kyon kyon ki apna time aayega apna time aayega apna time aayega apna time aayega apna time aayega apna time aayega apna time aayega   yeh shabdon ka jwala meri bediyan pighlayega jitna toone boya hai tu utna hi to khaayega apna time aayega apna time aayega apna time aayega   yeh shabdon ka jwala meri bediyan pighlayega jitna toone boya hai tu utna hi to khaayega apna time aayega aisa mera khwaab hai jo darr ko bhi satayega zinda mera khwaab ab kaise tu dafnayega   tu nanga hi to khaayega apna time aayega mere jaisa shaana lala tujhe na mil payega   tu nanga hi to aaya hai kya ghanta lekar..   kissi ka hath nahi tha sar par yahaan marzi ki aur jurrat ki hai, aafat ki himaakat kismat mein har raaste ko cheerenge hum kaamyabi chheenenge sab kuchh mila paseene se matlab bana ab jeene mein har raaste ko cheerenge hum kaamyabi chheenenge sab kuchh mila paseene se matlab bana ab jeene mein har raaste ko cheerenge hum kaamyabi chheenenge sab kuchh mila paseene se matlab bana ab jeene mein   kyon kyon ki hairat nahi hai zaroorat yahaan par aaya khud ki mehnat se main jitni taa\n"
     ]
    }
   ],
   "source": [
    "# Load the corpus\n",
    "text = load_text(\"C:/Users/jeong/Dataset/text_generation_assignment_song.txt\")\n",
    "\n",
    "# Cleaning the data a little bit\n",
    "text = text.replace(\"\\n\",\" \")\n",
    "\n",
    "# Perform Text Generation\n",
    "generated_text = generateText(\"apna time aaega apna\",k=8,maxLen=2000)\n",
    "print(text)\n",
    "print(len(text))\n",
    "print('-------------------------------------------')\n",
    "print(generated_text)"
   ]
  },
  {
   "cell_type": "code",
   "execution_count": null,
   "id": "430995af",
   "metadata": {},
   "outputs": [],
   "source": []
  }
 ],
 "metadata": {
  "kernelspec": {
   "display_name": "Python 3 (ipykernel)",
   "language": "python",
   "name": "python3"
  },
  "language_info": {
   "codemirror_mode": {
    "name": "ipython",
    "version": 3
   },
   "file_extension": ".py",
   "mimetype": "text/x-python",
   "name": "python",
   "nbconvert_exporter": "python",
   "pygments_lexer": "ipython3",
   "version": "3.11.5"
  }
 },
 "nbformat": 4,
 "nbformat_minor": 5
}
