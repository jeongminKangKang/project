{
 "cells": [
  {
   "cell_type": "code",
   "execution_count": 1,
   "id": "c89c25b2",
   "metadata": {
    "scrolled": false
   },
   "outputs": [
    {
     "name": "stdout",
     "output_type": "stream",
     "text": [
      "0 th loss: 3.4090310180834122\n",
      "10000 th loss: 0.38222672146405057\n",
      "20000 th loss: 0.08168367413152142\n",
      "30000 th loss: 0.04443050147057988\n",
      "40000 th loss: 0.03034456979951793\n",
      "50000 th loss: 0.02298883507877373\n",
      "60000 th loss: 0.018482254736344666\n",
      "70000 th loss: 0.015442461146134442\n",
      "80000 th loss: 0.01325551022527466\n",
      "90000 th loss: 0.011607610035877118\n",
      "After training:\n",
      "\n",
      "W1:\n",
      " [[5.63075522 5.62681631]\n",
      " [7.75457174 7.73075898]]\n",
      "b1:\n",
      " [[-8.60627121]\n",
      " [-3.5587571 ]]\n",
      "W2:\n",
      " [[-13.87969567  13.74073614]]\n",
      "b2:\n",
      " [[-6.79673698]]\n",
      "losses:\n",
      " [[3.40903102]\n",
      " [3.4087533 ]\n",
      " [3.40848153]\n",
      " ...\n",
      " [0.0103222 ]\n",
      " [0.01032208]\n",
      " [0.01032197]]\n"
     ]
    },
    {
     "data": {
      "image/png": "[encoded data removed]",
      "text/plain": [
       "<Figure size 640x480 with 1 Axes>"
      ]
     },
     "metadata": {},
     "output_type": "display_data"
    },
    {
     "name": "stdout",
     "output_type": "stream",
     "text": [
      "predicted labels: [[0. 1. 1. 0. 0.]]\n"
     ]
    }
   ],
   "source": [
    "import numpy as np\n",
    "from matplotlib import pyplot as plt\n",
    "\n",
    "def sigmoid(z):\n",
    "    return 1/(1+np.exp(-z))\n",
    "\n",
    "def forward_propagation(X,Y,W1,b1,W2,b2):\n",
    "    net_h = np.dot(W1,X)+b1\n",
    "    out_h = sigmoid(net_h)\n",
    "    net_y = np.dot(W2,out_h)+b2\n",
    "    out_y = sigmoid(net_y)\n",
    "    \n",
    "    return out_h,out_y\n",
    "\n",
    "def calculate_error(y,y_predicted):\n",
    "    loss = np.sum(-y*np.log(y_predicted)-(1-y)*np.log(1-y_predicted))\n",
    "    return loss\n",
    "\n",
    "def backward_propagation(X,Y,out_h,out_y,W2):\n",
    "    l2_error = out_y-Y\n",
    "    dW2 = np.dot(l2_error,out_h.T)\n",
    "    db2 = np.sum(l2_error,axis=1,keepdims=True)\n",
    "    \n",
    "    dh = np.dot(W2.T,l2_error)\n",
    "    l1_error = np.multiply(dh,out_h*(1-out_h))\n",
    "    dW1 = np.dot(l1_error,X.T)\n",
    "    db1 = np.sum(l1_error,axis=1,keepdims=True)\n",
    "    \n",
    "    return dW1,db1,dW2,db2\n",
    "\n",
    "def update_parameters(W1,b1,W2,b2,dW1,db1,dW2,db2,learning_rate):\n",
    "    W1 = W1-learning_rate*dW1\n",
    "    W2 = W2-learning_rate*dW2\n",
    "    b1 = b1-learning_rate*db1\n",
    "    b2 = b2-learning_rate*db2\n",
    "    \n",
    "    return W1,b1,W2,b2\n",
    "\n",
    "def train(X,Y,W1,b1,W2,b2,num_iterations,losses,learning_rate):\n",
    "    for i in range(num_iterations):\n",
    "        A1,A2 = forward_propagation(X,Y,W1,b1,W2,b2)\n",
    "        losses[i,0] = calculate_error(Y,A2)\n",
    "        if i%10000 == 0:\n",
    "            print(i,'th loss:',losses[i,0])\n",
    "        dW1,db1,dW2,db2 = backward_propagation(X,Y,A1,A2,W2)\n",
    "        W1,b1,W2,b2 = update_parameters(W1,b1,W2,b2,dW1,db1,dW2,db2,learning_rate)\n",
    "    return W1,b1,W2,b2,losses\n",
    "\n",
    "np.random.seed(42)\n",
    "\n",
    "X = np.array([[0,0,1,1],[0,1,0,1]])\n",
    "Y = np.array([[0,1,1,0]])\n",
    "n_h = 2\n",
    "n_x = X.shape[0]\n",
    "n_y = Y.shape[0]\n",
    "W1 = np.random.randn(n_h,n_x)\n",
    "b1 = np.zeros((n_h,1))\n",
    "W2 = np.random.randn(n_y,n_h)\n",
    "b2 = np.zeros((n_y,1))\n",
    "\n",
    "num_iterations = 100000\n",
    "learning_rate = 0.01\n",
    "losses = np.zeros((num_iterations,1))\n",
    "\n",
    "W1,b1,W2,b2,losses = train(X,Y,W1,b1,W2,b2,num_iterations,losses,learning_rate)\n",
    "\n",
    "print(\"After training:\\n\")\n",
    "print(\"W1:\\n\", W1)\n",
    "print(\"b1:\\n\", b1)\n",
    "print(\"W2:\\n\", W2)\n",
    "print(\"b2:\\n\", b2)\n",
    "print(\"losses:\\n\", losses)\n",
    "\n",
    "plt.figure()\n",
    "plt.plot(losses)\n",
    "plt.xlabel(\"EPOCHS\")\n",
    "plt.ylabel(\"Loss value\")\n",
    "plt.show()\n",
    "\n",
    "A1,A2 = forward_propagation(X,Y,W1,b1,W2,b2)\n",
    "pred = (A2>0.5)*1.0\n",
    "print(\"predicted labels:\",pred)"
   ]
  },
  {
   "cell_type": "code",
   "execution_count": null,
   "id": "0a9fdc45",
   "metadata": {},
   "outputs": [],
   "source": []
  }
 ],
 "metadata": {
  "kernelspec": {
   "display_name": "Python 3 (ipykernel)",
   "language": "python",
   "name": "python3"
  },
  "language_info": {
   "codemirror_mode": {
    "name": "ipython",
    "version": 3
   },
   "file_extension": ".py",
   "mimetype": "text/x-python",
   "name": "python",
   "nbconvert_exporter": "python",
   "pygments_lexer": "ipython3",
   "version": "3.11.5"
  }
 },
 "nbformat": 4,
 "nbformat_minor": 5
}
