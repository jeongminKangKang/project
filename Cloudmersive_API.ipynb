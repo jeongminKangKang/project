{
 "cells": [
  {
   "cell_type": "code",
   "execution_count": 17,
   "id": "b2cf9526",
   "metadata": {},
   "outputs": [
    {
     "name": "stdout",
     "output_type": "stream",
     "text": [
      "C:\\Users\\jeong\\anaconda3\\Lib\\site-packages\\cloudmersive_nlp_api_client\\__init__.py\n"
     ]
    }
   ],
   "source": [
    "import cloudmersive_nlp_api_client\n",
    "import inspect\n",
    "print(inspect.getfile(cloudmersive_nlp_api_client))"
   ]
  },
  {
   "cell_type": "code",
   "execution_count": 18,
   "id": "3eb696af",
   "metadata": {},
   "outputs": [
    {
     "name": "stdout",
     "output_type": "stream",
     "text": [
      "done\n"
     ]
    }
   ],
   "source": [
    "import cloudmersive_nlp_api_client\n",
    "print('done')"
   ]
  },
  {
   "cell_type": "code",
   "execution_count": 1,
   "id": "6b917a16",
   "metadata": {},
   "outputs": [
    {
     "name": "stdout",
     "output_type": "stream",
     "text": [
      "{'text_to_analyze': 'I hate your work'}\n",
      "error\n",
      "Exception when calling AnalyticsApi->analytics_sentiment: (500)\n",
      "Reason: Internal Server Error\n",
      "HTTP response headers: HTTPHeaderDict({'Cache-Control': 'no-cache', 'Pragma': 'no-cache', 'Content-Type': 'application/json; charset=utf-8', 'Expires': '-1', 'Server': 'Cloudmersive Server', 'X-AspNet-Version': '4.0.30319', 'Request-Context': 'appId=cid-v1:df6d1008-836d-4e95-b2e6-90c4de591e45', 'Access-Control-Expose-Headers': 'Request-Context', 'X-Powered-By': 'ASP.NET, ARR/3.0, Cloudmersive', 'Date': 'Tue, 06 Feb 2024 07:43:52 GMT', 'Content-Length': '36'})\n",
      "HTTP response body: {\"Message\":\"An error has occurred.\"}\n",
      "\n",
      "\n"
     ]
    }
   ],
   "source": [
    "from __future__ import print_function\n",
    "from cloudmersive_nlp_api_client.rest import ApiException\n",
    "import cloudmersive_nlp_api_client\n",
    "from pprint import pprint\n",
    "import time\n",
    "\n",
    "# Configuring the API key for authorization\n",
    "configuration = cloudmersive_nlp_api_client.Configuration()\n",
    "configuration.api_key['Apikey'] = \"13a321fb-63eb-4a39-aac6-4c0d880c63fe\"\n",
    "\n",
    "# Creating an instance of the AnalyticsApi class for sentiment analysis\n",
    "api_instance = cloudmersive_nlp_api_client.AnalyticsApi(\n",
    "                        cloudmersive_nlp_api_client.ApiClient(configuration))\n",
    "\n",
    "# Creating a sentiment analysis request object\n",
    "input = cloudmersive_nlp_api_client.ProfanityAnalysisRequest('I hate your work')\n",
    "\n",
    "pprint(input)\n",
    "try:\n",
    "    # Making a request to the API to perform sentiment analysis on the input\n",
    "    api_response = api_instance.analytics_sentiment(input)\n",
    "    pprint(api_response)\n",
    "except ApiException as e:\n",
    "    print('error')\n",
    "    print(\"Exception when calling AnalyticsApi->analytics_sentiment: %s\\n\" % e)"
   ]
  },
  {
   "cell_type": "code",
   "execution_count": 2,
   "id": "bf5cd171",
   "metadata": {},
   "outputs": [
    {
     "name": "stdout",
     "output_type": "stream",
     "text": [
      "{'detected_language_full_name': 'French',\n",
      " 'detected_language_three_letter_code': 'FRA',\n",
      " 'successful': True}\n"
     ]
    }
   ],
   "source": [
    "from __future__ import print_function\n",
    "from cloudmersive_nlp_api_client.rest import ApiException\n",
    "import cloudmersive_nlp_api_client\n",
    "from pprint import pprint\n",
    "import time\n",
    "\n",
    "# Configuring the API key for authorization\n",
    "configuration = cloudmersive_nlp_api_client.Configuration()\n",
    "configuration.api_key['Apikey'] = \"13a321fb-63eb-4a39-aac6-4c0d880c63fe\"\n",
    "\n",
    "# Creating an instance of the LanguageDetectionApi class for language detection\n",
    "api_instance = cloudmersive_nlp_api_client.LanguageDetectionApi(\n",
    "                cloudmersive_nlp_api_client.ApiClient(configuration))\n",
    "\n",
    "\n",
    "# Creating a language detection request object\n",
    "input = cloudmersive_nlp_api_client.LanguageDetectionRequest('bonjour') \n",
    "\n",
    "try:\n",
    "    # Making a request to the API to detect the language of the input text\n",
    "    api_response = api_instance.language_detection_get_language(input)\n",
    "    pprint(api_response)\n",
    "except ApiException as e:\n",
    "    print(\"Exception when calling LanguageDetectionApi %s\\n\" % e)"
   ]
  },
  {
   "cell_type": "code",
   "execution_count": 3,
   "id": "bdaf16e0",
   "metadata": {},
   "outputs": [
    {
     "name": "stdout",
     "output_type": "stream",
     "text": [
      "Exception when calling RephraseApi (500)\n",
      "Reason: Internal Server Error\n",
      "HTTP response headers: HTTPHeaderDict({'Cache-Control': 'no-cache', 'Pragma': 'no-cache', 'Content-Type': 'application/json; charset=utf-8', 'Expires': '-1', 'Server': 'Cloudmersive Server', 'X-AspNet-Version': '4.0.30319', 'Request-Context': 'appId=cid-v1:df6d1008-836d-4e95-b2e6-90c4de591e45', 'Access-Control-Expose-Headers': 'Request-Context', 'X-Powered-By': 'ASP.NET, ARR/3.0, Cloudmersive', 'Date': 'Tue, 06 Feb 2024 07:48:23 GMT', 'Content-Length': '36'})\n",
      "HTTP response body: {\"Message\":\"An error has occurred.\"}\n",
      "\n",
      "\n"
     ]
    }
   ],
   "source": [
    "from __future__ import print_function\n",
    "from cloudmersive_nlp_api_client.rest import ApiException\n",
    "import cloudmersive_nlp_api_client\n",
    "from pprint import pprint\n",
    "import time\n",
    "\n",
    "# Configuring the API key for authorization\n",
    "configuration = cloudmersive_nlp_api_client.Configuration()\n",
    "configuration.api_key['Apikey'] = \"13a321fb-63eb-4a39-aac6-4c0d880c63fe\"\n",
    "\n",
    "# Creating an instance of the RephraseApi class for sentence rephrasing\n",
    "api_instance = cloudmersive_nlp_api_client.RephraseApi(\n",
    "                cloudmersive_nlp_api_client.ApiClient(configuration))\n",
    "\n",
    "# Creating a rephrase request object\n",
    "input = cloudmersive_nlp_api_client.RephraseRequest('Content creation takes a lot of effort', '2') \n",
    "\n",
    "try:\n",
    "    # Making a request to the API to rephrase the input text\n",
    "    api_response = api_instance.rephrase_english_rephrase_sentence_by_sentence(input)\n",
    "    pprint(api_response)\n",
    "except ApiException as e:\n",
    "    print(\"Exception when calling RephraseApi %s\\n\" % e)"
   ]
  },
  {
   "cell_type": "code",
   "execution_count": 5,
   "id": "ebce1898",
   "metadata": {},
   "outputs": [
    {
     "name": "stdout",
     "output_type": "stream",
     "text": [
      "{'sentence_count': 2,\n",
      " 'sentences': ['Cloudmersive is a platform containing numerous APIs.',\n",
      "               'NLP API is a part of it.'],\n",
      " 'successful': True}\n",
      "{'words': [{'end_position': 1,\n",
      "            'start_position': 0,\n",
      "            'word': 'I',\n",
      "            'word_index': 0},\n",
      "           {'end_position': 5,\n",
      "            'start_position': 2,\n",
      "            'word': 'was',\n",
      "            'word_index': 1},\n",
      "           {'end_position': 13,\n",
      "            'start_position': 6,\n",
      "            'word': 'playing',\n",
      "            'word_index': 2},\n",
      "           {'end_position': 16,\n",
      "            'start_position': 14,\n",
      "            'word': 'in',\n",
      "            'word_index': 3},\n",
      "           {'end_position': 18,\n",
      "            'start_position': 17,\n",
      "            'word': 'a',\n",
      "            'word_index': 4},\n",
      "           {'end_position': 28,\n",
      "            'start_position': 19,\n",
      "            'word': 'beautiful',\n",
      "            'word_index': 5},\n",
      "           {'end_position': 35,\n",
      "            'start_position': 29,\n",
      "            'word': 'garden',\n",
      "            'word_index': 6}]}\n"
     ]
    }
   ],
   "source": [
    "from __future__ import print_function\n",
    "from cloudmersive_nlp_api_client.rest import ApiException\n",
    "import cloudmersive_nlp_api_client\n",
    "from pprint import pprint\n",
    "import time\n",
    "\n",
    "# Configuring the API key for authorization\n",
    "configuration = cloudmersive_nlp_api_client.Configuration()\n",
    "configuration.api_key['Apikey'] = '13a321fb-63eb-4a39-aac6-4c0d880c63fe'\n",
    "\n",
    "# Creating an instance of the SegmentationApi class for text segmentation\n",
    "api_instance = cloudmersive_nlp_api_client.SegmentationApi(\n",
    "                cloudmersive_nlp_api_client.ApiClient(configuration))\n",
    "\n",
    "# Creating a segmentation request object\n",
    "input = cloudmersive_nlp_api_client.SentenceSegmentationRequest(\n",
    "            'Cloudmersive is a platform containing numerous APIs. NLP API is a part of it.') \n",
    "\n",
    "try:\n",
    "    # Making a request to the API to extract sentences from the input string\n",
    "    api_response = api_instance.segmentation_get_sentences(input)\n",
    "    pprint(api_response)\n",
    "except ApiException as e:\n",
    "    print(\"Exception when calling SegmentationApi %s\\n\" % e)\n",
    "    \n",
    "input2 = cloudmersive_nlp_api_client.GetWordsRequest('I was playing in a beautiful garden')\n",
    "\n",
    "api_response2 = api_instance.segmentation_get_words(input2)\n",
    "pprint(api_response2)"
   ]
  },
  {
   "cell_type": "code",
   "execution_count": 6,
   "id": "299fd9d3",
   "metadata": {},
   "outputs": [
    {
     "name": "stdout",
     "output_type": "stream",
     "text": [
      "Exception when calling LanguageTranslationApi (500)\n",
      "Reason: Internal Server Error\n",
      "HTTP response headers: HTTPHeaderDict({'Cache-Control': 'no-cache', 'Pragma': 'no-cache', 'Content-Type': 'application/json; charset=utf-8', 'Expires': '-1', 'Server': 'Cloudmersive Server', 'X-AspNet-Version': '4.0.30319', 'Request-Context': 'appId=cid-v1:df6d1008-836d-4e95-b2e6-90c4de591e45', 'Access-Control-Expose-Headers': 'Request-Context', 'X-Powered-By': 'ASP.NET, ARR/3.0, Cloudmersive', 'Date': 'Tue, 06 Feb 2024 07:58:29 GMT', 'Content-Length': '36'})\n",
      "HTTP response body: {\"Message\":\"An error has occurred.\"}\n",
      "\n",
      "\n"
     ]
    }
   ],
   "source": [
    "from __future__ import print_function\n",
    "import time\n",
    "import cloudmersive_nlp_api_client\n",
    "from cloudmersive_nlp_api_client.rest import ApiException\n",
    "from pprint import pprint\n",
    "\n",
    "# Configuring the API key for authorization\n",
    "configuration = cloudmersive_nlp_api_client.Configuration()\n",
    "configuration.api_key['Apikey'] = '13a321fb-63eb-4a39-aac6-4c0d880c63fe'\n",
    "\n",
    "# Creating an instance of the LanguageTranslationApi class for text translation\n",
    "api_instance = cloudmersive_nlp_api_client.LanguageTranslationApi(\n",
    "                cloudmersive_nlp_api_client.ApiClient(configuration))\n",
    "\n",
    "# Creating a language translation request object\n",
    "input = cloudmersive_nlp_api_client.LanguageTranslationRequest('Guten Morgen') \n",
    "\n",
    "try:\n",
    "    # Making a request to the API to translate the input text from German to English\n",
    "    api_response = api_instance.language_translation_translate_deu_to_eng(input)\n",
    "    pprint(api_response)\n",
    "except ApiException as e:\n",
    "    print(\"Exception when calling LanguageTranslationApi %s\\n\" % e)"
   ]
  },
  {
   "cell_type": "code",
   "execution_count": 12,
   "id": "14004705",
   "metadata": {},
   "outputs": [
    {
     "name": "stdout",
     "output_type": "stream",
     "text": [
      "{'tagged_sentences': [{'words': [{'tag': 'VBD', 'word': 'loved'},\n",
      "                                 {'tag': 'VB', 'word': 'talk'},\n",
      "                                 {'tag': 'VBZ', 'word': 'is'},\n",
      "                                 {'tag': 'VBN', 'word': 'gone'}]}]}\n",
      "{'tagged_sentences': [{'words': [{'tag': 'NNP', 'word': 'Sarah'},\n",
      "                                 {'tag': 'NN', 'word': 'john'}]}]}\n",
      "{'tagged_sentences': [{'words': []}]}\n",
      "{'tagged_sentences': [{'words': [{'tag': 'RB', 'word': 'not'}]}]}\n",
      "{'tagged_sentences': [{'words': [{'tag': 'PRP', 'word': 'him'},\n",
      "                                 {'tag': 'PRP', 'word': 'he'}]}]}\n"
     ]
    }
   ],
   "source": [
    "from cloudmersive_nlp_api_client.rest import ApiException\n",
    "import cloudmersive_nlp_api_client\n",
    "from pprint import pprint\n",
    "import time\n",
    "\n",
    "# Configuring the API key for authorization\n",
    "configuration = cloudmersive_nlp_api_client.Configuration()\n",
    "configuration.api_key['Apikey'] = '13a321fb-63eb-4a39-aac6-4c0d880c63fe'\n",
    "\n",
    "# Creating an instance of the PosTaggerApi class for part-of-speech tagging\n",
    "api_instance = cloudmersive_nlp_api_client.PosTaggerApi(\n",
    "                cloudmersive_nlp_api_client.ApiClient(configuration))\n",
    "\n",
    "# Creating an POS tagging request object\n",
    "request = cloudmersive_nlp_api_client.PosRequest('Sarah loved john but could not talk to him and he is gone.') \n",
    "\n",
    "try:\n",
    "    # Making a request to the API to tag the parts-of-speech in the input string,\n",
    "    # and filtering to return the verbs\n",
    "    api_response = api_instance.pos_tagger_tag_verbs(request)\n",
    "    pprint(api_response)\n",
    "except ApiException as e:\n",
    "    print(\"Exception when calling PosTaggerApi\" % e)\n",
    "    \n",
    "api_response = api_instance.pos_tagger_tag_nouns(request)\n",
    "pprint(api_response)\n",
    "api_response = api_instance.pos_tagger_tag_adjectives(request)\n",
    "pprint(api_response)\n",
    "api_response = api_instance.pos_tagger_tag_adverbs(request)\n",
    "pprint(api_response)\n",
    "api_response = api_instance.pos_tagger_tag_pronouns(request)\n",
    "pprint(api_response)"
   ]
  }
 ],
 "metadata": {
  "kernelspec": {
   "display_name": "Python 3 (ipykernel)",
   "language": "python",
   "name": "python3"
  },
  "language_info": {
   "codemirror_mode": {
    "name": "ipython",
    "version": 3
   },
   "file_extension": ".py",
   "mimetype": "text/x-python",
   "name": "python",
   "nbconvert_exporter": "python",
   "pygments_lexer": "ipython3",
   "version": "3.11.5"
  }
 },
 "nbformat": 4,
 "nbformat_minor": 5
}
